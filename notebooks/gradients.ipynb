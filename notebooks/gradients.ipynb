{
 "cells": [
  {
   "cell_type": "markdown",
   "id": "6f03f5b0",
   "metadata": {},
   "source": [
    "# Using JAX automatic differentiation in halox\n",
    "\n",
    "Because all functions in `halox` are implemented in terms of JAX primitive expressions (or rely on `jax-cosmo` functions, which are also fully JAX-friendly), they can be automatically differentiated with respect to their inputs.\n",
    "\n",
    "This notebook provides a few examples of how this can be used in practice, and will be updated with new examples as `halox` keeps receiving new features."
   ]
  },
  {
   "cell_type": "code",
   "execution_count": null,
   "id": "f9dfca5d",
   "metadata": {},
   "outputs": [],
   "source": "import matplotlib.pyplot as plt\nimport jax\nimport jax.numpy as jnp\nimport halox\nimport jax_cosmo as jc\n\njax.config.update(\"jax_enable_x64\", True)\n\nplt.style.use([\"seaborn-v0_8-darkgrid\", \"petroff10\"])\nplt.rcParams.update({\"xtick.direction\": \"in\", \"ytick.direction\": \"in\"})"
  },
  {
   "cell_type": "markdown",
   "id": "5a448d03",
   "metadata": {},
   "source": [
    "## Differentiating with respect to redshift"
   ]
  },
  {
   "cell_type": "code",
   "execution_count": null,
   "id": "d5d0867d",
   "metadata": {},
   "outputs": [],
   "source": "cosmo = halox.cosmology.Planck18()\n\n\ndef H(z):\n    return halox.cosmology.hubble_parameter(z, cosmo)\n\n\nH_and_grad = jax.value_and_grad(H)\n\nzs = jnp.linspace(0, 2, 16)\nHs, dHdzs = jax.vmap(H_and_grad)(zs)\n\nfig, axs = plt.subplots(2, 1)\naxs[0].plot(zs, Hs, lw=2)\naxs[0].set_ylabel(r\"$H(z)$ [${\\rm km} \\, {\\rm s}^{-1} \\, {\\rm Mpc}^{-1}$]\")\naxs[0].set_xticklabels([])\n\naxs[1].plot(zs, dHdzs, lw=2)\naxs[1].set_ylabel(\n    r\"$\\left( {\\rm d}H / {\\rm d}z \\right) (z)$ [${\\rm km} \\, {\\rm s}^{-1} \\, {\\rm Mpc}^{-1}$]\"\n)\naxs[1].set_xlabel(\"$z$\")\n\nfor ax in axs:\n    ax.xaxis.set_ticks_position(\"both\")\n    ax.yaxis.set_ticks_position(\"both\")\n    ax.grid(True, alpha=1.0)"
  },
  {
   "cell_type": "code",
   "execution_count": null,
   "id": "1cd7f2e1",
   "metadata": {},
   "outputs": [],
   "source": "def rho_c(z):\n    return halox.cosmology.critical_density(z, cosmo)\n\n\nrho_and_grad = jax.value_and_grad(rho_c)\n\nzs = jnp.linspace(0, 2, 16)\nrhos, drhodzs = jax.vmap(rho_and_grad)(zs)\n\nfig, axs = plt.subplots(2, 1)\naxs[0].plot(zs, rhos, lw=2)\naxs[0].set_ylabel(r\"$\\rho_c(z)$ [$h^2 \\, M_\\odot \\, {\\rm Mpc}^{-3}$]\")\naxs[0].set_xticklabels([])\n\naxs[1].plot(zs, drhodzs, lw=2)\naxs[1].set_ylabel(\n    r\"$\\left( {\\rm d}\\rho_c / {\\rm d}z \\right) (z)$ [$h^2 \\, M_\\odot \\, {\\rm Mpc}^{-3}$]\"\n)\naxs[1].set_xlabel(\"$z$\")\n\nfor ax in axs:\n    ax.xaxis.set_ticks_position(\"both\")\n    ax.yaxis.set_ticks_position(\"both\")\n    ax.grid(True, alpha=1.0)"
  },
  {
   "cell_type": "markdown",
   "id": "e0e067b0",
   "metadata": {},
   "source": [
    "## Differentiating with respect to cosmology"
   ]
  },
  {
   "cell_type": "code",
   "execution_count": 4,
   "id": "cd490c5d",
   "metadata": {},
   "outputs": [
    {
     "name": "stdout",
     "output_type": "stream",
     "text": [
      "w_0 = [-1.2 -1.1 -1. ]\n",
      "H(z=1) = [115.6922973  117.76798759 120.27427285] [km s-1 Mpc-1]\n",
      "dH_1/dw_0 = [18.84102128 22.78718246 27.4697143 ] [km s-1 Mpc-1]\n"
     ]
    }
   ],
   "source": [
    "def H_1(w0):\n",
    "    cosmo = jc.Planck15(w0=w0)\n",
    "    return halox.cosmology.hubble_parameter(1.0, cosmo)\n",
    "\n",
    "\n",
    "H_and_grad = jax.value_and_grad(H_1)\n",
    "\n",
    "w0s = jnp.array([-1.2, -1.1, -1.0])\n",
    "Hs, dHdws = jax.vmap(H_and_grad)(w0s)\n",
    "\n",
    "print(f\"w_0 = {w0s}\")\n",
    "print(f\"H(z=1) = {Hs} [km s-1 Mpc-1]\")\n",
    "print(f\"dH_1/dw_0 = {dHdws} [km s-1 Mpc-1]\")"
   ]
  },
  {
   "cell_type": "code",
   "execution_count": 5,
   "id": "9183f695",
   "metadata": {},
   "outputs": [
    {
     "name": "stdout",
     "output_type": "stream",
     "text": [
      "sigma_8 = [0.8  0.85 0.9 ]\n",
      "dN/dlnM(M200c=1e14 h-1 Msun, z=0.5) = [1.62898095e-05 2.03306704e-05 2.43123380e-05] [h3 Mpc-3]\n",
      "d(dN/dlnM(M200c=1e14 h-1 Msun, z=0.5))/dsigma_8 = [8.04095582e-05 8.06890205e-05 7.81862040e-05] [h3 Mpc-3]\n"
     ]
    }
   ],
   "source": [
    "def hmf_1e14_0p5(sigma8):\n",
    "    cosmo = jc.Planck15(sigma8=sigma8)\n",
    "    return halox.hmf.tinker08_mass_function(1e14, 0.5, cosmo, delta_c=200.0)\n",
    "\n",
    "\n",
    "hmf_and_grad = jax.value_and_grad(hmf_1e14_0p5)\n",
    "\n",
    "sigma8s = jnp.array([0.8, 0.85, 0.9])\n",
    "hmfs, dhmfdsigma8s = jax.vmap(hmf_and_grad)(sigma8s)\n",
    "\n",
    "print(f\"sigma_8 = {sigma8s}\")\n",
    "print(f\"dN/dlnM(M200c=1e14 h-1 Msun, z=0.5) = {hmfs} [h3 Mpc-3]\")\n",
    "print(\n",
    "    \"d(dN/dlnM(M200c=1e14 h-1 Msun, z=0.5))/dsigma_8 \"\n",
    "    f\"= {dhmfdsigma8s} [h3 Mpc-3]\"\n",
    ")"
   ]
  }
 ],
 "metadata": {
  "kernelspec": {
   "display_name": "Python 3 (ipykernel)",
   "language": "python",
   "name": "python3"
  },
  "language_info": {
   "codemirror_mode": {
    "name": "ipython",
    "version": 3
   },
   "file_extension": ".py",
   "mimetype": "text/x-python",
   "name": "python",
   "nbconvert_exporter": "python",
   "pygments_lexer": "ipython3",
   "version": "3.12.9"
  }
 },
 "nbformat": 4,
 "nbformat_minor": 5
}