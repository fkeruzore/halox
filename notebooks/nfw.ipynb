{
 "cells": [
  {
   "cell_type": "markdown",
   "metadata": {},
   "source": [
    "# NFW Halo Profile Calculations with halox\n",
    "\n",
    "This notebook demonstrates the NFW (Navarro-Frenk-White) halo profile calculations available in the `halox` library. We'll explore the key properties and methods of the `NFWHalo` class."
   ]
  },
  {
   "cell_type": "code",
   "execution_count": null,
   "metadata": {},
   "outputs": [],
   "source": [
    "import jax\n",
    "import jax.numpy as jnp\n",
    "import matplotlib.pyplot as plt\n",
    "\n",
    "from halox import cosmology, nfw\n",
    "\n",
    "jax.config.update(\"jax_enable_x64\", True)\n",
    "\n",
    "plt.style.use([\"seaborn-v0_8-darkgrid\", \"petroff10\"])\n",
    "plt.rcParams.update({\"xtick.direction\": \"in\", \"ytick.direction\": \"in\"})"
   ]
  },
  {
   "cell_type": "markdown",
   "metadata": {},
   "source": [
    "## Setting up the Cosmology\n",
    "\n",
    "First, let's create a cosmology object using the Planck 2018 parameters provided by halox:"
   ]
  },
  {
   "cell_type": "code",
   "execution_count": 2,
   "metadata": {},
   "outputs": [
    {
     "name": "stdout",
     "output_type": "stream",
     "text": [
      "Hubble parameter h = 0.6766\n",
      "Matter density Ω_m = 0.30964\n",
      "Baryon density Ω_b = 0.04897\n",
      "Cold dark matter density Ω_c = 0.26067\n",
      "Power spectrum normalization σ_8 = 0.8102\n"
     ]
    }
   ],
   "source": [
    "# Create a Planck 2018 cosmology\n",
    "cosmo = cosmology.Planck18()\n",
    "print(f\"Hubble parameter h = {cosmo.h}\")\n",
    "print(f\"Matter density Ω_m = {cosmo.Omega_m}\")\n",
    "print(f\"Baryon density Ω_b = {cosmo.Omega_b}\")\n",
    "print(f\"Cold dark matter density Ω_c = {cosmo.Omega_c}\")\n",
    "print(f\"Power spectrum normalization σ_8 = {cosmo.sigma8}\")"
   ]
  },
  {
   "cell_type": "markdown",
   "metadata": {},
   "source": [
    "## Creating an NFW Halo\n",
    "\n",
    "Now let's create an NFW halo with specific mass, concentration, and redshift parameters:"
   ]
  },
  {
   "cell_type": "code",
   "execution_count": 3,
   "metadata": {},
   "outputs": [
    {
     "name": "stdout",
     "output_type": "stream",
     "text": [
      "Halo mass M_200 = 1.00e+14 h^-1 M_sun\n",
      "Concentration c_200 = 10.0\n",
      "Virial radius R_200 = 0.755 h^-1 Mpc\n",
      "Scale radius R_s = 0.075 h^-1 Mpc\n",
      "Characteristic density ρ_0 = 1.24e+16 h^2 M_sun Mpc^-3\n"
     ]
    }
   ],
   "source": [
    "# Halo parameters\n",
    "m_200 = 1e14  # Mass in h^-1 M_sun\n",
    "c_200 = 10.0  # Concentration parameter\n",
    "z = 0.0  # Redshift\n",
    "delta = 200.0  # Overdensity relative to critical density\n",
    "\n",
    "# Create the NFW halo\n",
    "halo = nfw.NFWHalo(m_200, c_200, z, cosmo, delta=delta)\n",
    "\n",
    "print(f\"Halo mass M_200 = {halo.m_delta:.2e} h^-1 M_sun\")\n",
    "print(f\"Concentration c_200 = {halo.c_delta}\")\n",
    "print(f\"Virial radius R_200 = {halo.Rdelta:.3f} h^-1 Mpc\")\n",
    "print(f\"Scale radius R_s = {halo.Rs:.3f} h^-1 Mpc\")\n",
    "print(f\"Characteristic density ρ_0 = {halo.rho0:.2e} h^2 M_sun Mpc^-3\")"
   ]
  },
  {
   "cell_type": "markdown",
   "metadata": {},
   "source": [
    "## Density Profile\n",
    "\n",
    "The NFW density profile is given by:\n",
    "\n",
    "$$\\rho(r) = \\frac{\\rho_0}{\\frac{r}{R_s}\\left(1 + \\frac{r}{R_s}\\right)^2}$$\n",
    "\n",
    "Let's compute and plot the density profile:"
   ]
  },
  {
   "cell_type": "code",
   "execution_count": null,
   "metadata": {},
   "outputs": [],
   "source": [
    "# Create radial grid\n",
    "r = jnp.logspace(-3, 1, 100)  # From 0.001 to 10 h^-1 Mpc\n",
    "\n",
    "# Compute density profile\n",
    "rho = halo.density(r)\n",
    "\n",
    "# Plot\n",
    "fig, ax = plt.subplots()\n",
    "ax.loglog(r, rho, linewidth=2, label=\"NFW density profile\")\n",
    "ax.axvline(\n",
    "    halo.Rs,\n",
    "    color=\"C1\",\n",
    "    linestyle=\"--\",\n",
    "    alpha=0.7,\n",
    "    label=f\"Scale radius $R_s = {halo.Rs:.3f}$\",\n",
    ")\n",
    "ax.axvline(\n",
    "    halo.Rdelta,\n",
    "    color=\"C2\",\n",
    "    linestyle=\"--\",\n",
    "    alpha=0.7,\n",
    "    label=f\"$R_{{200c}} = {halo.Rdelta:.3f}$\",\n",
    ")\n",
    "ax.set_xlabel(r\"Radius $r$ [$h^{-1} \\, {\\rm Mpc}$]\")\n",
    "ax.set_ylabel(r\"Density $\\rho(r)$ [$h^2 \\, M_\\odot \\, {\\rm Mpc}^{-3}$]\")\n",
    "ax.set_title(\"NFW Density Profile\")\n",
    "ax.legend()\n",
    "ax.xaxis.set_ticks_position(\"both\")\n",
    "ax.yaxis.set_ticks_position(\"both\")\n",
    "ax.grid(True, alpha=1.0)"
   ]
  },
  {
   "cell_type": "markdown",
   "metadata": {},
   "source": [
    "## Enclosed Mass Profile\n",
    "\n",
    "The enclosed mass within radius $r$ is:\n",
    "\n",
    "$$M(<r) = 4\\pi \\rho_0 R_s^3 \\left[\\ln\\left(1 + \\frac{r}{R_s}\\right) - \\frac{r}{r + R_s}\\right]$$"
   ]
  },
  {
   "cell_type": "code",
   "execution_count": null,
   "metadata": {},
   "outputs": [],
   "source": [
    "# Compute enclosed mass profile\n",
    "m_enc = halo.enclosed_mass(r)\n",
    "\n",
    "# Plot\n",
    "fig, ax = plt.subplots()\n",
    "ax.loglog(r, m_enc, linewidth=2, label=\"Enclosed mass\")\n",
    "ax.axhline(\n",
    "    halo.m_delta,\n",
    "    color=\"C3\",\n",
    "    linestyle=\"-\",\n",
    "    alpha=0.7,\n",
    "    label=f\"$M_{{200c}} = {halo.m_delta:.2e}$\",\n",
    ")\n",
    "ax.axvline(\n",
    "    halo.Rs,\n",
    "    color=\"C1\",\n",
    "    linestyle=\"--\",\n",
    "    alpha=0.7,\n",
    "    label=f\"$R_s = {halo.Rs:.3f}$\",\n",
    ")\n",
    "ax.axvline(\n",
    "    halo.Rdelta,\n",
    "    color=\"C2\",\n",
    "    linestyle=\"--\",\n",
    "    alpha=0.7,\n",
    "    label=f\"$R_{{200c}} = {halo.Rdelta:.3f}$\",\n",
    ")\n",
    "ax.set_xlabel(r\"Radius $r$ [$h^{-1} \\, {\\rm Mpc}$]\")\n",
    "ax.set_ylabel(r\"Enclosed Mass $M(<r)$ [$h^{-1} \\, M_\\odot$]\")\n",
    "ax.set_title(\"NFW Enclosed Mass Profile\")\n",
    "ax.legend()\n",
    "ax.xaxis.set_ticks_position(\"both\")\n",
    "ax.yaxis.set_ticks_position(\"both\")\n",
    "ax.grid(True, alpha=1.0)\n",
    "\n",
    "# Verify that M(<R_200) = M_200\n",
    "m_at_r200 = halo.enclosed_mass(halo.Rdelta)\n",
    "print(f\"M(<R_200c) = {m_at_r200:.2e} h^-1 M_sun\")\n",
    "print(f\"M_200c = {halo.m_delta:.2e} h^-1 M_sun\")"
   ]
  },
  {
   "cell_type": "markdown",
   "metadata": {},
   "source": [
    "## Gravitational Potential\n",
    "\n",
    "The gravitational potential is:\n",
    "\n",
    "$$\\phi(r) = -4\\pi G \\rho_0 R_s^3 \\frac{\\ln\\left(1 + \\frac{r}{R_s}\\right)}{r}$$"
   ]
  },
  {
   "cell_type": "code",
   "execution_count": null,
   "metadata": {},
   "outputs": [],
   "source": [
    "# Compute potential profile (excluding very small radii to avoid divergence)\n",
    "r_pot = jnp.logspace(-2, 1, 100)  # From 0.01 to 10 h^-1 Mpc\n",
    "phi = halo.potential(r_pot)\n",
    "\n",
    "# Plot\n",
    "fig, ax = plt.subplots()\n",
    "ax.semilogx(r_pot, phi, linewidth=2, label=\"Gravitational potential\")\n",
    "ax.axvline(\n",
    "    halo.Rs,\n",
    "    color=\"C1\",\n",
    "    linestyle=\"--\",\n",
    "    alpha=0.7,\n",
    "    label=f\"$R_s = {halo.Rs:.3f}$\",\n",
    ")\n",
    "ax.axvline(\n",
    "    halo.Rdelta,\n",
    "    color=\"C2\",\n",
    "    linestyle=\"--\",\n",
    "    alpha=0.7,\n",
    "    label=f\"$R_{{200c}} = {halo.Rdelta:.3f}$\",\n",
    ")\n",
    "ax.set_xlabel(r\"Radius $r$ [$h^{-1} \\, {\\rm Mpc}$]\")\n",
    "ax.set_ylabel(r\"Potential $\\phi(r)$ [${\\rm km}^2 \\, {\\rm s}^{-2}$]\")\n",
    "ax.set_title(\"NFW Gravitational Potential\")\n",
    "ax.legend()\n",
    "ax.xaxis.set_ticks_position(\"both\")\n",
    "ax.yaxis.set_ticks_position(\"both\")\n",
    "ax.grid(True, alpha=1.0)"
   ]
  },
  {
   "cell_type": "markdown",
   "metadata": {},
   "source": [
    "## Vectorization\n",
    "\n",
    "The `NFWHalo` class supports vectorized operations, allowing you to work with multiple halos simultaneously:"
   ]
  },
  {
   "cell_type": "code",
   "execution_count": 7,
   "metadata": {},
   "outputs": [],
   "source": [
    "def rho(r, m, c, z, cosmo=cosmo, delta=200.0):\n",
    "    return nfw.NFWHalo(m, c, z, cosmo=cosmo, delta=delta).density(r)\n",
    "\n",
    "\n",
    "# Create multiple halos with different masses and concentrations\n",
    "masses = jnp.array([1e13, 1e14, 1e15])  # h-1 M_sun\n",
    "concentrations = jnp.array([12.0, 10.0, 8.0])\n",
    "redshifts = jnp.array([0.5, 0.2, 0.1])\n",
    "radii = jnp.logspace(-3, 1, 64)  # h-1 Mpc\n",
    "\n",
    "rhos = jax.vmap(rho, in_axes=[None, 0, 0, 0, None, None])(\n",
    "    radii, masses, concentrations, redshifts, cosmo, delta\n",
    ")"
   ]
  },
  {
   "cell_type": "code",
   "execution_count": null,
   "metadata": {},
   "outputs": [],
   "source": [
    "# Plot density profiles for all halos\n",
    "fig, ax = plt.subplots()\n",
    "\n",
    "for i in range(len(masses)):\n",
    "    ax.loglog(\n",
    "        radii,\n",
    "        rhos[i],\n",
    "        lw=2,\n",
    "        label=\"$M_{200c}=$\"\n",
    "        + f\"{masses[i]:.0e}, \"\n",
    "        + \"$c_{200c}=$\"\n",
    "        + f\"{concentrations[i]:.0f}, \"\n",
    "        + f\"$z={redshifts[i]:.1f}$\",\n",
    "    )\n",
    "\n",
    "ax.set_xlabel(r\"Radius $r$ [$h^{-1} \\, {\\rm Mpc}$]\")\n",
    "ax.set_ylabel(r\"Density $\\rho(r)$ [$h^2 \\, M_\\odot \\, {\\rm Mpc}^{-3}$]\")\n",
    "ax.set_title(\"NFW Density Profiles for Different Halo Masses\")\n",
    "ax.legend()\n",
    "ax.xaxis.set_ticks_position(\"both\")\n",
    "ax.yaxis.set_ticks_position(\"both\")\n",
    "ax.grid(True, alpha=1.0)"
   ]
  },
  {
   "cell_type": "markdown",
   "metadata": {},
   "source": [
    "## Different overdensities"
   ]
  },
  {
   "cell_type": "code",
   "execution_count": null,
   "metadata": {},
   "outputs": [],
   "source": [
    "fig, ax = plt.subplots()\n",
    "r = jnp.logspace(-3, 1, 64)\n",
    "\n",
    "for delta in [200.0, 500.0]:\n",
    "    rho = nfw.NFWHalo(5e14, 5.0, 0.0, cosmo=cosmo, delta=delta).density(r)\n",
    "    d = f\"{delta:.0f}c\"\n",
    "    ax.loglog(\n",
    "        r,\n",
    "        rho,\n",
    "        lw=2,\n",
    "        label=f\"$M_{{{d}}}=5 \\\\times 10^{{14}}, c_{{{d}}}=5, z=0$\",\n",
    "    )\n",
    "\n",
    "ax.set_xlabel(r\"Radius $r$ [$h^{-1} \\, {\\rm Mpc}$]\")\n",
    "ax.set_ylabel(r\"Density $\\rho(r)$ [$h^2 \\, M_\\odot \\, {\\rm Mpc}^{-3}$]\")\n",
    "ax.set_title(\"NFW Density Profiles for Different Critical Overdensities\")\n",
    "ax.legend()\n",
    "ax.xaxis.set_ticks_position(\"both\")\n",
    "ax.yaxis.set_ticks_position(\"both\")\n",
    "ax.grid(True, alpha=1.0)"
   ]
  },
  {
   "cell_type": "markdown",
   "metadata": {},
   "source": [
    "## Acceleration"
   ]
  },
  {
   "cell_type": "code",
   "execution_count": null,
   "metadata": {},
   "outputs": [],
   "source": [
    "cosmo = cosmology.Planck18()\n",
    "\n",
    "\n",
    "def rho(r, m, c, z, cosmo=cosmo, delta=200.0):\n",
    "    return nfw.NFWHalo(m, c, z, cosmo=cosmo, delta=delta).density(r)\n",
    "\n",
    "\n",
    "rs = jnp.logspace(-3, 1, 64)"
   ]
  },
  {
   "cell_type": "markdown",
   "metadata": {},
   "source": [
    "Not compiling the function:"
   ]
  },
  {
   "cell_type": "code",
   "execution_count": 11,
   "metadata": {},
   "outputs": [
    {
     "name": "stdout",
     "output_type": "stream",
     "text": [
      "494 μs ± 5.62 μs per loop (mean ± std. dev. of 7 runs, 1,000 loops each)\n"
     ]
    }
   ],
   "source": [
    "%timeit _ = rho(rs, 1e14, 5.0, 0.0)"
   ]
  },
  {
   "cell_type": "markdown",
   "metadata": {},
   "source": [
    "Compiling the function and executing it once to get rind of compilation overhead:"
   ]
  },
  {
   "cell_type": "code",
   "execution_count": 12,
   "metadata": {},
   "outputs": [
    {
     "name": "stdout",
     "output_type": "stream",
     "text": [
      "10.9 μs ± 118 ns per loop (mean ± std. dev. of 7 runs, 100,000 loops each)\n"
     ]
    }
   ],
   "source": [
    "rho_j = jax.jit(rho)\n",
    "_ = rho_j(rs, 1e14, 5.0, 0.0)\n",
    "%timeit _ = rho_j(rs, 1e14, 5.0, 0.0)"
   ]
  },
  {
   "cell_type": "code",
   "execution_count": null,
   "metadata": {},
   "outputs": [],
   "source": []
  }
 ],
 "metadata": {
  "kernelspec": {
   "display_name": ".venv",
   "language": "python",
   "name": "python3"
  },
  "language_info": {
   "codemirror_mode": {
    "name": "ipython",
    "version": 3
   },
   "file_extension": ".py",
   "mimetype": "text/x-python",
   "name": "python",
   "nbconvert_exporter": "python",
   "pygments_lexer": "ipython3",
   "version": "3.12.9"
  }
 },
 "nbformat": 4,
 "nbformat_minor": 4
}